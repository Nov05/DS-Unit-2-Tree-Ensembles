{
  "nbformat": 4,
  "nbformat_minor": 0,
  "metadata": {
    "colab": {
      "name": "kaggle_20190715.ipynb",
      "version": "0.3.2",
      "provenance": [],
      "collapsed_sections": [],
      "include_colab_link": true
    },
    "kernelspec": {
      "name": "python3",
      "display_name": "Python 3"
    }
  },
  "cells": [
    {
      "cell_type": "markdown",
      "metadata": {
        "id": "view-in-github",
        "colab_type": "text"
      },
      "source": [
        "<a href=\"https://colab.research.google.com/github/Nov05/DS-Unit-2-Tree-Ensembles/blob/master/module2-random-forests/kaggle_20190715.ipynb\" target=\"_parent\"><img src=\"https://colab.research.google.com/assets/colab-badge.svg\" alt=\"Open In Colab\"/></a>"
      ]
    },
    {
      "cell_type": "code",
      "metadata": {
        "id": "vu7D9rjwaGoZ",
        "colab_type": "code",
        "colab": {}
      },
      "source": [
        "# created by nov05 on 2019-07-15\n",
        "# Kaggle\n",
        "# DS-Unit-2-Tree-Ensembles/\n",
        "# module1-decision-trees/\n",
        "# module2-random-forests/\n",
        "competition_name = \"ds5-predictive-modeling-challenge\""
      ],
      "execution_count": 0,
      "outputs": []
    },
    {
      "cell_type": "markdown",
      "metadata": {
        "id": "22tgAlaeaaeK",
        "colab_type": "text"
      },
      "source": [
        "https://www.kaggle.com/c/ds5-predictive-modeling-challenge/leaderboard  "
      ]
    },
    {
      "cell_type": "code",
      "metadata": {
        "id": "wpFldWjsaTM4",
        "colab_type": "code",
        "colab": {}
      },
      "source": [
        "from google.colab import drive\n",
        "drive.mount('/content/drive')"
      ],
      "execution_count": 0,
      "outputs": []
    },
    {
      "cell_type": "code",
      "metadata": {
        "id": "9ZsI_tlmaj3e",
        "colab_type": "code",
        "outputId": "909cb77c-f56f-45f3-b609-84b42994792c",
        "colab": {
          "base_uri": "https://localhost:8080/",
          "height": 35
        }
      },
      "source": [
        "# do this only once unless you create a new API key:\n",
        "# create a folder with name \"config\" in \"My Drive\" \n",
        "# and store your API config file \"kaggle.json\" there\n",
        "\n",
        "# do this every time after you reset all your runtimes,\n",
        "# or kaggle won't find your API config file \"kaggle.json\" \n",
        "%env KAGGLE_CONFIG_DIR=/content/drive/My Drive/config"
      ],
      "execution_count": 4,
      "outputs": [
        {
          "output_type": "stream",
          "text": [
            "env: KAGGLE_CONFIG_DIR=/content/drive/My Drive/config\n"
          ],
          "name": "stdout"
        }
      ]
    },
    {
      "cell_type": "code",
      "metadata": {
        "id": "clB4K3r8anP1",
        "colab_type": "code",
        "colab": {}
      },
      "source": [
        "# run this code block to download competition files\n",
        "!kaggle competitions download -c ds5-predictive-modeling-challenge\n",
        "# unzip all .zip files\n",
        "!unzip \\*.zip"
      ],
      "execution_count": 0,
      "outputs": []
    },
    {
      "cell_type": "markdown",
      "metadata": {
        "id": "JV1ganaqa9N5",
        "colab_type": "text"
      },
      "source": [
        "# Imports"
      ]
    },
    {
      "cell_type": "code",
      "metadata": {
        "id": "ZZV1jmdTbBRc",
        "colab_type": "code",
        "colab": {}
      },
      "source": [
        "!pip install --upgrade pandas-profiling\n",
        "!pip install category_encoders"
      ],
      "execution_count": 0,
      "outputs": []
    },
    {
      "cell_type": "code",
      "metadata": {
        "id": "09VvmOMybIM1",
        "colab_type": "code",
        "colab": {}
      },
      "source": [
        "import pandas as pd\n",
        "import numpy as np\n",
        "import matplotlib.pyplot as plt\n",
        "import pandas_profiling\n",
        "import datetime as dt\n",
        "\n",
        "import sklearn\n",
        "from sklearn import datasets\n",
        "from sklearn import linear_model\n",
        "from sklearn.linear_model import LogisticRegression\n",
        "from sklearn.tree import DecisionTreeRegressor, DecisionTreeClassifier\n",
        "from sklearn.ensemble import AdaBoostClassifier, AdaBoostRegressor\n",
        "from sklearn.ensemble import RandomForestClassifier\n",
        "from sklearn.metrics import mean_absolute_error, \\\n",
        "     mean_squared_error, r2_score\n",
        "from sklearn.metrics import accuracy_score\n",
        "from sklearn.model_selection import train_test_split, \\\n",
        "     GridSearchCV\n",
        "from sklearn.decomposition import PCA, TruncatedSVD\n",
        "\n",
        "from sklearn.compose import ColumnTransformer\n",
        "from sklearn.pipeline import Pipeline\n",
        "from sklearn.impute import SimpleImputer\n",
        "from sklearn.preprocessing import StandardScaler, \\\n",
        "     OneHotEncoder, OrdinalEncoder, LabelEncoder\n",
        "\n",
        "import category_encoders as ce\n",
        "from category_encoders.binary import BinaryEncoder\n",
        "\n",
        "%matplotlib inline"
      ],
      "execution_count": 0,
      "outputs": []
    },
    {
      "cell_type": "code",
      "metadata": {
        "id": "HHmongkvbEAQ",
        "colab_type": "code",
        "outputId": "38632d05-fe9f-494d-b393-606fe00aa272",
        "colab": {
          "base_uri": "https://localhost:8080/",
          "height": 87
        }
      },
      "source": [
        "print(\"pandas_profiling\", pandas_profiling.__version__)\n",
        "print(\"category_encoders\", ce.__version__)\n",
        "print(\"pandas\", pd.__version__)\n",
        "print(\"sklearn\", sklearn.__version__)"
      ],
      "execution_count": 8,
      "outputs": [
        {
          "output_type": "stream",
          "text": [
            "pandas_profiling 2.1.2\n",
            "category_encoders 2.0.0\n",
            "pandas 0.24.2\n",
            "sklearn 0.21.2\n"
          ],
          "name": "stdout"
        }
      ]
    },
    {
      "cell_type": "markdown",
      "metadata": {
        "id": "wz37kh3xbg3Y",
        "colab_type": "text"
      },
      "source": [
        "# Download data"
      ]
    },
    {
      "cell_type": "code",
      "metadata": {
        "id": "o6-LOseFbkKz",
        "colab_type": "code",
        "colab": {}
      },
      "source": [
        "LOCAL = '../data/tanzania/'\n",
        "# WEB = 'https://raw.githubusercontent.com/LambdaSchool/DS-Unit-2-Linear-Models/master/data/tanzania/'\n",
        "WEB = '' # if you have downloaded the files to Colab folder '/content'\n",
        "\n",
        "train_features = pd.read_csv(WEB + 'train_features.csv')\n",
        "train_labels = pd.read_csv(WEB + 'train_labels.csv')\n",
        "test_features = pd.read_csv(WEB + 'test_features.csv')\n",
        "sample_submission = pd.read_csv(WEB + 'sample_submission.csv')\n",
        "\n",
        "assert train_features.shape == (59400, 40)\n",
        "assert train_labels.shape == (59400, 2)\n",
        "assert test_features.shape == (14358, 40)\n",
        "assert sample_submission.shape == (14358, 2)"
      ],
      "execution_count": 0,
      "outputs": []
    },
    {
      "cell_type": "code",
      "metadata": {
        "id": "2drzHRGCbrP9",
        "colab_type": "code",
        "outputId": "09333bbc-74a6-4c5a-e360-65e20eb3a14b",
        "colab": {
          "base_uri": "https://localhost:8080/",
          "height": 35
        }
      },
      "source": [
        "X_train = train_features\n",
        "y_train = train_labels['status_group']\n",
        "\n",
        "X_train, X_val, y_train, y_val = train_test_split(\n",
        "    X_train, y_train, train_size=0.80, test_size=0.20,\n",
        "    stratify=y_train, random_state=42)\n",
        "\n",
        "X_train.shape, X_val.shape, y_train.shape, y_val.shape"
      ],
      "execution_count": 79,
      "outputs": [
        {
          "output_type": "execute_result",
          "data": {
            "text/plain": [
              "((47520, 40), (11880, 40), (47520,), (11880,))"
            ]
          },
          "metadata": {
            "tags": []
          },
          "execution_count": 79
        }
      ]
    },
    {
      "cell_type": "markdown",
      "metadata": {
        "id": "msf1KAYtcUKA",
        "colab_type": "text"
      },
      "source": [
        "# Feature examination/engineering"
      ]
    },
    {
      "cell_type": "code",
      "metadata": {
        "id": "-g0P9VJHVAzZ",
        "colab_type": "code",
        "colab": {
          "base_uri": "https://localhost:8080/",
          "height": 105
        },
        "outputId": "6cecca22-1bbc-4cb3-9bf0-79bd8c35eb33"
      },
      "source": [
        "X_train['date_recorded'].describe()"
      ],
      "execution_count": 57,
      "outputs": [
        {
          "output_type": "execute_result",
          "data": {
            "text/plain": [
              "count          47520\n",
              "unique           349\n",
              "top       2011-03-17\n",
              "freq             474\n",
              "Name: date_recorded, dtype: object"
            ]
          },
          "metadata": {
            "tags": []
          },
          "execution_count": 57
        }
      ]
    },
    {
      "cell_type": "code",
      "metadata": {
        "id": "1i8FaolLdyhx",
        "colab_type": "code",
        "colab": {
          "base_uri": "https://localhost:8080/",
          "height": 87
        },
        "outputId": "3e118803-baa4-439c-b35b-9ac0d16a7528"
      },
      "source": [
        "X_train.select_dtypes(include=np.number).columns"
      ],
      "execution_count": 68,
      "outputs": [
        {
          "output_type": "execute_result",
          "data": {
            "text/plain": [
              "Index(['id', 'amount_tsh', 'gps_height', 'longitude', 'latitude',\n",
              "       'num_private', 'region_code', 'district_code', 'population',\n",
              "       'construction_year'],\n",
              "      dtype='object')"
            ]
          },
          "metadata": {
            "tags": []
          },
          "execution_count": 68
        }
      ]
    },
    {
      "cell_type": "code",
      "metadata": {
        "id": "6TracMgrcYr3",
        "colab_type": "code",
        "colab": {}
      },
      "source": [
        "# X_train['month_recorded_'] = pd.to_datetime(X_train['date_recorded'], infer_datetime_format=True)"
      ],
      "execution_count": 0,
      "outputs": []
    },
    {
      "cell_type": "code",
      "metadata": {
        "id": "1WMwWpt8g9C7",
        "colab_type": "code",
        "colab": {
          "base_uri": "https://localhost:8080/",
          "height": 52
        },
        "outputId": "53ab47e6-a586-4d7b-a035-fc6ceb4633d3"
      },
      "source": [
        "X_train['recorded_by'].value_counts()"
      ],
      "execution_count": 103,
      "outputs": [
        {
          "output_type": "execute_result",
          "data": {
            "text/plain": [
              "GeoData Consultants Ltd    47520\n",
              "Name: recorded_by, dtype: int64"
            ]
          },
          "metadata": {
            "tags": []
          },
          "execution_count": 103
        }
      ]
    },
    {
      "cell_type": "code",
      "metadata": {
        "id": "lfLCpEaRjOpP",
        "colab_type": "code",
        "colab": {
          "base_uri": "https://localhost:8080/",
          "height": 172
        },
        "outputId": "5c1d3e80-b02f-4efa-d6dd-8d0c6e8be685"
      },
      "source": [
        "X_train[['water_quality', 'quality_group', 'quantity', 'quantity_group', 'source', 'source_type', 'source_class', 'waterpoint_type',\n",
        "       'waterpoint_type_group']].describe()"
      ],
      "execution_count": 114,
      "outputs": [
        {
          "output_type": "execute_result",
          "data": {
            "text/html": [
              "<div>\n",
              "<style scoped>\n",
              "    .dataframe tbody tr th:only-of-type {\n",
              "        vertical-align: middle;\n",
              "    }\n",
              "\n",
              "    .dataframe tbody tr th {\n",
              "        vertical-align: top;\n",
              "    }\n",
              "\n",
              "    .dataframe thead th {\n",
              "        text-align: right;\n",
              "    }\n",
              "</style>\n",
              "<table border=\"1\" class=\"dataframe\">\n",
              "  <thead>\n",
              "    <tr style=\"text-align: right;\">\n",
              "      <th></th>\n",
              "      <th>water_quality</th>\n",
              "      <th>quality_group</th>\n",
              "      <th>quantity</th>\n",
              "      <th>quantity_group</th>\n",
              "      <th>source</th>\n",
              "      <th>source_type</th>\n",
              "      <th>source_class</th>\n",
              "      <th>waterpoint_type</th>\n",
              "      <th>waterpoint_type_group</th>\n",
              "    </tr>\n",
              "  </thead>\n",
              "  <tbody>\n",
              "    <tr>\n",
              "      <th>count</th>\n",
              "      <td>47520</td>\n",
              "      <td>47520</td>\n",
              "      <td>47520</td>\n",
              "      <td>47520</td>\n",
              "      <td>47520</td>\n",
              "      <td>47520</td>\n",
              "      <td>47520</td>\n",
              "      <td>47520</td>\n",
              "      <td>47520</td>\n",
              "    </tr>\n",
              "    <tr>\n",
              "      <th>unique</th>\n",
              "      <td>8</td>\n",
              "      <td>6</td>\n",
              "      <td>5</td>\n",
              "      <td>5</td>\n",
              "      <td>10</td>\n",
              "      <td>7</td>\n",
              "      <td>3</td>\n",
              "      <td>7</td>\n",
              "      <td>6</td>\n",
              "    </tr>\n",
              "    <tr>\n",
              "      <th>top</th>\n",
              "      <td>soft</td>\n",
              "      <td>good</td>\n",
              "      <td>enough</td>\n",
              "      <td>enough</td>\n",
              "      <td>spring</td>\n",
              "      <td>spring</td>\n",
              "      <td>groundwater</td>\n",
              "      <td>communal standpipe</td>\n",
              "      <td>communal standpipe</td>\n",
              "    </tr>\n",
              "    <tr>\n",
              "      <th>freq</th>\n",
              "      <td>40598</td>\n",
              "      <td>40598</td>\n",
              "      <td>26567</td>\n",
              "      <td>26567</td>\n",
              "      <td>13620</td>\n",
              "      <td>13620</td>\n",
              "      <td>36638</td>\n",
              "      <td>22778</td>\n",
              "      <td>27642</td>\n",
              "    </tr>\n",
              "  </tbody>\n",
              "</table>\n",
              "</div>"
            ],
            "text/plain": [
              "       water_quality quality_group  ...     waterpoint_type waterpoint_type_group\n",
              "count          47520         47520  ...               47520                 47520\n",
              "unique             8             6  ...                   7                     6\n",
              "top             soft          good  ...  communal standpipe    communal standpipe\n",
              "freq           40598         40598  ...               22778                 27642\n",
              "\n",
              "[4 rows x 9 columns]"
            ]
          },
          "metadata": {
            "tags": []
          },
          "execution_count": 114
        }
      ]
    },
    {
      "cell_type": "code",
      "metadata": {
        "id": "v_rcUNsdlo20",
        "colab_type": "code",
        "colab": {
          "base_uri": "https://localhost:8080/",
          "height": 172
        },
        "outputId": "9bf9c095-b9ec-439c-c5e5-2c4b97351e31"
      },
      "source": [
        "X_train[['extraction_type', 'extraction_type_group', 'extraction_type_class']].describe()"
      ],
      "execution_count": 122,
      "outputs": [
        {
          "output_type": "execute_result",
          "data": {
            "text/html": [
              "<div>\n",
              "<style scoped>\n",
              "    .dataframe tbody tr th:only-of-type {\n",
              "        vertical-align: middle;\n",
              "    }\n",
              "\n",
              "    .dataframe tbody tr th {\n",
              "        vertical-align: top;\n",
              "    }\n",
              "\n",
              "    .dataframe thead th {\n",
              "        text-align: right;\n",
              "    }\n",
              "</style>\n",
              "<table border=\"1\" class=\"dataframe\">\n",
              "  <thead>\n",
              "    <tr style=\"text-align: right;\">\n",
              "      <th></th>\n",
              "      <th>extraction_type</th>\n",
              "      <th>extraction_type_group</th>\n",
              "      <th>extraction_type_class</th>\n",
              "    </tr>\n",
              "  </thead>\n",
              "  <tbody>\n",
              "    <tr>\n",
              "      <th>count</th>\n",
              "      <td>47520</td>\n",
              "      <td>47520</td>\n",
              "      <td>47520</td>\n",
              "    </tr>\n",
              "    <tr>\n",
              "      <th>unique</th>\n",
              "      <td>18</td>\n",
              "      <td>13</td>\n",
              "      <td>7</td>\n",
              "    </tr>\n",
              "    <tr>\n",
              "      <th>top</th>\n",
              "      <td>gravity</td>\n",
              "      <td>gravity</td>\n",
              "      <td>gravity</td>\n",
              "    </tr>\n",
              "    <tr>\n",
              "      <th>freq</th>\n",
              "      <td>21448</td>\n",
              "      <td>21448</td>\n",
              "      <td>21448</td>\n",
              "    </tr>\n",
              "  </tbody>\n",
              "</table>\n",
              "</div>"
            ],
            "text/plain": [
              "       extraction_type extraction_type_group extraction_type_class\n",
              "count            47520                 47520                 47520\n",
              "unique              18                    13                     7\n",
              "top            gravity               gravity               gravity\n",
              "freq             21448                 21448                 21448"
            ]
          },
          "metadata": {
            "tags": []
          },
          "execution_count": 122
        }
      ]
    },
    {
      "cell_type": "code",
      "metadata": {
        "id": "cHPSxPRkmvwM",
        "colab_type": "code",
        "colab": {
          "base_uri": "https://localhost:8080/",
          "height": 238
        },
        "outputId": "a15cc839-4104-4fb0-c595-b5f492784af6"
      },
      "source": [
        "print(X_train['region'].value_counts().shape[0])\n",
        "print(X_train['region_code'].value_counts().shape[0])\n",
        "X_train[['region', 'region_code']].head()"
      ],
      "execution_count": 139,
      "outputs": [
        {
          "output_type": "stream",
          "text": [
            "21\n",
            "27\n"
          ],
          "name": "stdout"
        },
        {
          "output_type": "execute_result",
          "data": {
            "text/html": [
              "<div>\n",
              "<style scoped>\n",
              "    .dataframe tbody tr th:only-of-type {\n",
              "        vertical-align: middle;\n",
              "    }\n",
              "\n",
              "    .dataframe tbody tr th {\n",
              "        vertical-align: top;\n",
              "    }\n",
              "\n",
              "    .dataframe thead th {\n",
              "        text-align: right;\n",
              "    }\n",
              "</style>\n",
              "<table border=\"1\" class=\"dataframe\">\n",
              "  <thead>\n",
              "    <tr style=\"text-align: right;\">\n",
              "      <th></th>\n",
              "      <th>region</th>\n",
              "      <th>region_code</th>\n",
              "    </tr>\n",
              "  </thead>\n",
              "  <tbody>\n",
              "    <tr>\n",
              "      <th>43360</th>\n",
              "      <td>Mbeya</td>\n",
              "      <td>12</td>\n",
              "    </tr>\n",
              "    <tr>\n",
              "      <th>7263</th>\n",
              "      <td>Iringa</td>\n",
              "      <td>11</td>\n",
              "    </tr>\n",
              "    <tr>\n",
              "      <th>2486</th>\n",
              "      <td>Pwani</td>\n",
              "      <td>6</td>\n",
              "    </tr>\n",
              "    <tr>\n",
              "      <th>313</th>\n",
              "      <td>Kagera</td>\n",
              "      <td>18</td>\n",
              "    </tr>\n",
              "    <tr>\n",
              "      <th>52726</th>\n",
              "      <td>Dodoma</td>\n",
              "      <td>1</td>\n",
              "    </tr>\n",
              "  </tbody>\n",
              "</table>\n",
              "</div>"
            ],
            "text/plain": [
              "       region  region_code\n",
              "43360   Mbeya           12\n",
              "7263   Iringa           11\n",
              "2486    Pwani            6\n",
              "313    Kagera           18\n",
              "52726  Dodoma            1"
            ]
          },
          "metadata": {
            "tags": []
          },
          "execution_count": 139
        }
      ]
    },
    {
      "cell_type": "code",
      "metadata": {
        "id": "vsuOcAZXq_S-",
        "colab_type": "code",
        "colab": {
          "base_uri": "https://localhost:8080/",
          "height": 35
        },
        "outputId": "09553bf7-7f35-4655-ac5d-73df67241ac7"
      },
      "source": [
        "len(X_train['num_private'].value_counts())"
      ],
      "execution_count": 155,
      "outputs": [
        {
          "output_type": "execute_result",
          "data": {
            "text/plain": [
              "59"
            ]
          },
          "metadata": {
            "tags": []
          },
          "execution_count": 155
        }
      ]
    },
    {
      "cell_type": "code",
      "metadata": {
        "id": "AdIk8b12fnsm",
        "colab_type": "code",
        "colab": {
          "base_uri": "https://localhost:8080/",
          "height": 228
        },
        "outputId": "10a7c725-9a24-4a4a-c748-c85285495b54"
      },
      "source": [
        "print(X_train.shape[1])\n",
        "X_train.columns"
      ],
      "execution_count": 102,
      "outputs": [
        {
          "output_type": "stream",
          "text": [
            "40\n"
          ],
          "name": "stdout"
        },
        {
          "output_type": "execute_result",
          "data": {
            "text/plain": [
              "Index(['id', 'amount_tsh', 'date_recorded', 'funder', 'gps_height',\n",
              "       'installer', 'longitude', 'latitude', 'wpt_name', 'num_private',\n",
              "       'basin', 'subvillage', 'region', 'region_code', 'district_code', 'lga',\n",
              "       'ward', 'population', 'public_meeting', 'recorded_by',\n",
              "       'scheme_management', 'scheme_name', 'permit', 'construction_year',\n",
              "       'extraction_type', 'extraction_type_group', 'extraction_type_class',\n",
              "       'management', 'management_group', 'payment', 'payment_type',\n",
              "       'water_quality', 'quality_group', 'quantity', 'quantity_group',\n",
              "       'source', 'source_type', 'source_class', 'waterpoint_type',\n",
              "       'waterpoint_type_group'],\n",
              "      dtype='object')"
            ]
          },
          "metadata": {
            "tags": []
          },
          "execution_count": 102
        }
      ]
    },
    {
      "cell_type": "code",
      "metadata": {
        "id": "IHvi9ulUkF_z",
        "colab_type": "code",
        "colab": {}
      },
      "source": [
        "# remove some features\n",
        "features = X_train.columns.to_list()\n",
        "features.remove('quality_group')\n",
        "features.remove('quantity_group')\n",
        "features.remove('source_type')\n",
        "features.remove('source_class')\n",
        "features.remove('waterpoint_type_group')\n",
        "features.remove('extraction_type_group')\n",
        "features.remove('extraction_type_class')\n",
        "features.remove('id')\n",
        "features.remove('date_recorded')\n",
        "features.remove('region')"
      ],
      "execution_count": 0,
      "outputs": []
    },
    {
      "cell_type": "code",
      "metadata": {
        "id": "uNcmVVYak7-1",
        "colab_type": "code",
        "colab": {
          "base_uri": "https://localhost:8080/",
          "height": 35
        },
        "outputId": "fb7e06d9-7ae6-4667-d668-1272770b4ec1"
      },
      "source": [
        "print(len(features))"
      ],
      "execution_count": 141,
      "outputs": [
        {
          "output_type": "stream",
          "text": [
            "30\n"
          ],
          "name": "stdout"
        }
      ]
    },
    {
      "cell_type": "markdown",
      "metadata": {
        "id": "4WE_msmpVGK2",
        "colab_type": "text"
      },
      "source": [
        "# Preprocessing"
      ]
    },
    {
      "cell_type": "code",
      "metadata": {
        "id": "MDJpTnDnb_Il",
        "colab_type": "code",
        "outputId": "6303da5c-9c25-435c-94f4-c11e5d95950e",
        "colab": {
          "base_uri": "https://localhost:8080/",
          "height": 35
        }
      },
      "source": [
        "numeric_features = X_train[features].select_dtypes(include=np.number).columns.to_list()\n",
        "# categorical_features = X_train.select_dtypes(exclude=np.number).columns.to_list()\n",
        "categorical_features, boolean_features = [], []\n",
        "for col in X_train[features].select_dtypes(exclude=np.number):\n",
        "  if isinstance(X_train[col][0], bool):\n",
        "    boolean_features.append(col)\n",
        "  else:\n",
        "    categorical_features.append(col)\n",
        "len(numeric_features), len(categorical_features), len(boolean_features)"
      ],
      "execution_count": 148,
      "outputs": [
        {
          "output_type": "execute_result",
          "data": {
            "text/plain": [
              "(9, 19, 2)"
            ]
          },
          "metadata": {
            "tags": []
          },
          "execution_count": 148
        }
      ]
    },
    {
      "cell_type": "code",
      "metadata": {
        "id": "jWsR0haWuQxd",
        "colab_type": "code",
        "colab": {
          "base_uri": "https://localhost:8080/",
          "height": 35
        },
        "outputId": "14a995d1-632d-481f-83d8-3009a408a7f2"
      },
      "source": [
        "# select high cardinality features\n",
        "# for ordinal encoding (rather than one-hot encoding)\n",
        "highcardi_features, lowcardi_features = [], []\n",
        "for col in X_train[categorical_features]:\n",
        "  if len(X_train[col].value_counts()) >= 10:\n",
        "    highcardi_features.append(col)\n",
        "  elif len(X_train[col].value_counts()) >= 2:\n",
        "    lowcardi_features.append(col)\n",
        "len(numeric_features), len(boolean_features), len(highcardi_features), len(lowcardi_features)"
      ],
      "execution_count": 149,
      "outputs": [
        {
          "output_type": "execute_result",
          "data": {
            "text/plain": [
              "(9, 2, 11, 7)"
            ]
          },
          "metadata": {
            "tags": []
          },
          "execution_count": 149
        }
      ]
    },
    {
      "cell_type": "code",
      "metadata": {
        "id": "lVv5JOnqnnC0",
        "colab_type": "code",
        "colab": {}
      },
      "source": [
        "f = 'region_code'\n",
        "if f in numeric_features:\n",
        "  numeric_features.remove(f)\n",
        "  highcardi_features.append(f)"
      ],
      "execution_count": 0,
      "outputs": []
    },
    {
      "cell_type": "markdown",
      "metadata": {
        "id": "4rTnNZsicCNm",
        "colab_type": "text"
      },
      "source": [
        "# Modeling"
      ]
    },
    {
      "cell_type": "code",
      "metadata": {
        "id": "0RG0R2-vcIsn",
        "colab_type": "code",
        "outputId": "e5634949-21da-4cc5-fa4a-2a8d6caf4c1a",
        "colab": {
          "base_uri": "https://localhost:8080/",
          "height": 35
        }
      },
      "source": [
        "numeric_transformer = Pipeline(steps=[\n",
        "    ('imputer', SimpleImputer(strategy='median')),\n",
        "    ('scaler', StandardScaler())])\n",
        "onehot_transformer = Pipeline(steps=[\n",
        "    ('imputer', SimpleImputer(strategy='constant', fill_value='missing')),\n",
        "    ('onehot', OneHotEncoder(sparse=True, handle_unknown='ignore'))]) # sparse=False would exaust the memory\n",
        "ordinal_transformer = Pipeline(steps=[\n",
        "    ('imputer', SimpleImputer(strategy='constant', fill_value='missing')),\n",
        "    ('ordinal', ce.OrdinalEncoder())])\n",
        "boolean_transformer = Pipeline(steps=[\n",
        "    ('imputer', SimpleImputer(strategy='most_frequent'))])\n",
        "preprocessor = ColumnTransformer(\n",
        "    transformers=[\n",
        "        ('num', numeric_transformer, numeric_features),\n",
        "        ('boo', boolean_transformer, boolean_features),\n",
        "        ('one', onehot_transformer, lowcardi_features), # categorical_features\n",
        "        ('ord', ordinal_transformer, highcardi_features),\n",
        "    ])\n",
        "\n",
        "boost = AdaBoostClassifier(base_estimator=DecisionTreeClassifier())\n",
        "parameters = {'n_estimators': (1, 50),\n",
        "              'base_estimator__max_depth': (1, 26),\n",
        "              'algorithm': ('SAMME', 'SAMME.R')}\n",
        "\n",
        "clf = Pipeline(steps=[('preprocessor', preprocessor),\n",
        "#                       ('pca', PCA(n_components=5, whiten=True)),\n",
        "#                       ('svd', TruncatedSVD(n_components=200, random_state=5)), # 200059 cols\n",
        "#                       ('lr', LogisticRegression(solver='lbfgs', multi_class='auto', n_jobs=-1)),\n",
        "#                       ('dt', DecisionTreeClassifier(max_depth=26)),\n",
        "#                       ('gscv', GridSearchCV(boost, parameters)) # might take long time\n",
        "                      ('rf', RandomForestClassifier(n_estimators=200, random_state=5))\n",
        "                     ])\n",
        "clf.fit(X_train, y_train)\n",
        "\n",
        "# print('TruncatedSVD explained variance ratio:', clf['svd'].explained_variance_ratio_.sum())\n",
        "# print(\"Decision Tree feature importances:\", clf['dt'].feature_importances_)\n",
        "print(\"Validation score: %.3f\" % clf.score(X_val, y_val))"
      ],
      "execution_count": 151,
      "outputs": [
        {
          "output_type": "stream",
          "text": [
            "Validation score: 0.811\n"
          ],
          "name": "stdout"
        }
      ]
    },
    {
      "cell_type": "markdown",
      "metadata": {
        "id": "eDfyVHpcIWbm",
        "colab_type": "text"
      },
      "source": [
        "rf, ordinal_transformer  \n",
        "Validation score: 0.811 (all features)     \n",
        "Validation score: 0.811 (removed some features)  \n",
        "Validation score: 0.807 (removed more features)  \n",
        "removed \"region\", ordinal encoded \"region_code\"  \n",
        "Validation score: 0.811  \n",
        "<br>  \n",
        "('rf', RandomForestClassifier(n_estimators=100, random_state=5))  \n",
        "Validation score: 0.810  \n",
        "('rf', RandomForestClassifier())  \n",
        "Validation score: 0.792  \n",
        "('rf', RandomForestClassifier(n_estimators=100, max_depth=26, random_state=5))  \n",
        "Validation score: 0.693  \n",
        "<br>\n",
        "('dt', DecisionTreeClassifier())   # depth=142  \n",
        "Validation score: 0.780  \n",
        "('dt', DecisionTreeClassifier(max_depth=75))  \n",
        "Validation score: 0.770  \n",
        "('dt', DecisionTreeClassifier(max_depth=15))  \n",
        "Validation score: 0.715   \n",
        "max_depth=29,30 / 0.782  \n",
        "max_depth=28 / 0.784  \n",
        "max_depth=27 / 0.786  \n",
        "max_depth=26 / 0.782  \n",
        "<br>\n",
        "boost = AdaBoostClassifier(base_estimator=DecisionTreeClassifier())  \n",
        "('gscv', GridSearchCV(boost, parameters))  \n",
        "alidation score: 0.694  \n",
        "<br>\n",
        "('svd', TruncatedSVD(n_components=2000, random_state=5)), # 200059  \n",
        "TruncatedSVD explained variance ratio: 0.8524638115439054  \n",
        "Validation score: 0.773\n"
      ]
    },
    {
      "cell_type": "code",
      "metadata": {
        "id": "TqB8MMEnRAf5",
        "colab_type": "code",
        "colab": {}
      },
      "source": [
        "# print(len(clf['dt'].feature_importances_))\n",
        "# print(clf['dt'].max_features_)\n",
        "# print(clf['dt'].get_depth())\n",
        "# print(clf['dt'].feature_importances_[:15])"
      ],
      "execution_count": 0,
      "outputs": []
    },
    {
      "cell_type": "markdown",
      "metadata": {
        "id": "xRPEGupAcV69",
        "colab_type": "text"
      },
      "source": [
        "# Submission"
      ]
    },
    {
      "cell_type": "code",
      "metadata": {
        "id": "jRS_9FgKcOFh",
        "colab_type": "code",
        "outputId": "fc9df52a-4100-4760-e75d-c08e720fb1dc",
        "colab": {
          "base_uri": "https://localhost:8080/",
          "height": 35
        }
      },
      "source": [
        "test_pred = clf.predict(test_features)\n",
        "submission = sample_submission.copy()\n",
        "submission['status_group'] = test_pred\n",
        "submission_filename = 'submission.csv'\n",
        "submission.to_csv(submission_filename, index=False)\n",
        "print(submission.shape)"
      ],
      "execution_count": 156,
      "outputs": [
        {
          "output_type": "stream",
          "text": [
            "(14358, 2)\n"
          ],
          "name": "stdout"
        }
      ]
    },
    {
      "cell_type": "code",
      "metadata": {
        "id": "If6-eIdHcTOR",
        "colab_type": "code",
        "outputId": "00f1653f-4310-481c-e43f-a80ddf0e3b2c",
        "colab": {
          "base_uri": "https://localhost:8080/",
          "height": 52
        }
      },
      "source": [
        "# !kaggle competitions submit ds5-predictive-modeling-challenge -f submission.csv -m \"random forest removed some features n_estimators=200 81.1%\""
      ],
      "execution_count": 157,
      "outputs": [
        {
          "output_type": "stream",
          "text": [
            "100% 263k/263k [00:04<00:00, 59.6kB/s]\n",
            "Successfully submitted to DS5 Predictive Modeling Challenge"
          ],
          "name": "stdout"
        }
      ]
    },
    {
      "cell_type": "markdown",
      "metadata": {
        "id": "qMID4jvkp3m0",
        "colab_type": "text"
      },
      "source": [
        "Adopting a Hypothesis-Driven Modeling Workflow  \n",
        "https://outline.com/5S5tsB  "
      ]
    },
    {
      "cell_type": "markdown",
      "metadata": {
        "id": "ZykDrzsbhdM1",
        "colab_type": "text"
      },
      "source": [
        "# Random Forest\n",
        "\n",
        "https://scikit-learn.org/stable/modules/generated/sklearn.ensemble.RandomForestClassifier.html  "
      ]
    },
    {
      "cell_type": "markdown",
      "metadata": {
        "id": "KF5pqoBQEpP2",
        "colab_type": "text"
      },
      "source": [
        "# AdaBoostClassifier\n",
        "\n",
        "https://programtalk.com/python-examples/sklearn.tree.DecisionTreeRegressor/  \n",
        "https://scikit-learn.org/stable/modules/generated/sklearn.ensemble.AdaBoostRegressor.html  \n",
        "https://www.datacamp.com/community/tutorials/adaboost-classifier-python  "
      ]
    },
    {
      "cell_type": "code",
      "metadata": {
        "id": "RTQaiOQpEryX",
        "colab_type": "code",
        "colab": {}
      },
      "source": [
        "# iris = datasets.load_iris()\n",
        "# boston = datasets.load_boston()\n",
        "\n",
        "# def test_gridsearch():\n",
        "#     # Check that base trees can be grid-searched.\n",
        "#     # AdaBoost classification\n",
        "#     boost = AdaBoostClassifier(base_estimator=DecisionTreeClassifier())\n",
        "#     parameters = {'n_estimators': (1, 2),\n",
        "#                   'base_estimator__max_depth': (1, 2),\n",
        "#                   'algorithm': ('SAMME', 'SAMME.R')}\n",
        "#     clf = GridSearchCV(boost, parameters)\n",
        "#     clf.fit(iris.data, iris.target)\n",
        " \n",
        "#     # AdaBoost regression\n",
        "#     boost = AdaBoostRegressor(base_estimator=DecisionTreeRegressor(),\n",
        "#                               random_state=0)\n",
        "#     parameters = {'n_estimators': (1, 2),\n",
        "#                   'base_estimator__max_depth': (1, 2)}\n",
        "#     clf = GridSearchCV(boost, parameters)\n",
        "#     clf.fit(boston.data, boston.target)\n",
        "\n",
        "# test_gridsearch()"
      ],
      "execution_count": 0,
      "outputs": []
    },
    {
      "cell_type": "markdown",
      "metadata": {
        "id": "11vFcRf3LoPe",
        "colab_type": "text"
      },
      "source": [
        "# TPOT\n",
        "\n",
        "http://epistasislab.github.io/tpot/  "
      ]
    }
  ]
}