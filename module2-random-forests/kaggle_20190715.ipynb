{
  "nbformat": 4,
  "nbformat_minor": 0,
  "metadata": {
    "colab": {
      "name": "kaggle_20190715.ipynb",
      "version": "0.3.2",
      "provenance": [],
      "collapsed_sections": [],
      "include_colab_link": true
    },
    "kernelspec": {
      "name": "python3",
      "display_name": "Python 3"
    }
  },
  "cells": [
    {
      "cell_type": "markdown",
      "metadata": {
        "id": "view-in-github",
        "colab_type": "text"
      },
      "source": [
        "<a href=\"https://colab.research.google.com/github/Nov05/DS-Unit-2-Tree-Ensembles/blob/master/module2-random-forests/kaggle_20190715.ipynb\" target=\"_parent\"><img src=\"https://colab.research.google.com/assets/colab-badge.svg\" alt=\"Open In Colab\"/></a>"
      ]
    },
    {
      "cell_type": "code",
      "metadata": {
        "id": "vu7D9rjwaGoZ",
        "colab_type": "code",
        "colab": {}
      },
      "source": [
        "# created by nov05 on 2019-07-15\n",
        "# Kaggle\n",
        "# DS-Unit-2-Tree-Ensembles/\n",
        "# module1-decision-trees/\n",
        "# module2-random-forests/\n",
        "competition_name = \"ds5-predictive-modeling-challenge\""
      ],
      "execution_count": 0,
      "outputs": []
    },
    {
      "cell_type": "markdown",
      "metadata": {
        "id": "22tgAlaeaaeK",
        "colab_type": "text"
      },
      "source": [
        "https://www.kaggle.com/c/ds5-predictive-modeling-challenge/leaderboard  "
      ]
    },
    {
      "cell_type": "code",
      "metadata": {
        "id": "wpFldWjsaTM4",
        "colab_type": "code",
        "colab": {}
      },
      "source": [
        "from google.colab import drive\n",
        "drive.mount('/content/drive')"
      ],
      "execution_count": 0,
      "outputs": []
    },
    {
      "cell_type": "code",
      "metadata": {
        "id": "9ZsI_tlmaj3e",
        "colab_type": "code",
        "outputId": "909cb77c-f56f-45f3-b609-84b42994792c",
        "colab": {
          "base_uri": "https://localhost:8080/",
          "height": 35
        }
      },
      "source": [
        "# do this only once unless you create a new API key:\n",
        "# create a folder with name \"config\" in \"My Drive\" \n",
        "# and store your API config file \"kaggle.json\" there\n",
        "\n",
        "# do this every time after you reset all your runtimes,\n",
        "# or kaggle won't find your API config file \"kaggle.json\" \n",
        "%env KAGGLE_CONFIG_DIR=/content/drive/My Drive/config"
      ],
      "execution_count": 4,
      "outputs": [
        {
          "output_type": "stream",
          "text": [
            "env: KAGGLE_CONFIG_DIR=/content/drive/My Drive/config\n"
          ],
          "name": "stdout"
        }
      ]
    },
    {
      "cell_type": "code",
      "metadata": {
        "id": "clB4K3r8anP1",
        "colab_type": "code",
        "colab": {}
      },
      "source": [
        "# run this code block to download competition files\n",
        "!kaggle competitions download -c ds5-predictive-modeling-challenge\n",
        "# unzip all .zip files\n",
        "!unzip \\*.zip"
      ],
      "execution_count": 0,
      "outputs": []
    },
    {
      "cell_type": "markdown",
      "metadata": {
        "id": "JV1ganaqa9N5",
        "colab_type": "text"
      },
      "source": [
        "# Imports"
      ]
    },
    {
      "cell_type": "code",
      "metadata": {
        "id": "ZZV1jmdTbBRc",
        "colab_type": "code",
        "colab": {}
      },
      "source": [
        "!pip install --upgrade pandas-profiling\n",
        "!pip install category_encoders"
      ],
      "execution_count": 0,
      "outputs": []
    },
    {
      "cell_type": "code",
      "metadata": {
        "id": "09VvmOMybIM1",
        "colab_type": "code",
        "colab": {}
      },
      "source": [
        "import pandas as pd\n",
        "import numpy as np\n",
        "import matplotlib.pyplot as plt\n",
        "import pandas_profiling\n",
        "import category_encoders as ce\n",
        "\n",
        "import sklearn\n",
        "from sklearn import datasets\n",
        "from sklearn import linear_model\n",
        "from sklearn.linear_model import LogisticRegression\n",
        "from sklearn.tree import DecisionTreeRegressor, DecisionTreeClassifier\n",
        "from sklearn.ensemble import AdaBoostClassifier, AdaBoostRegressor\n",
        "from sklearn.ensemble import RandomForestClassifier\n",
        "from sklearn.metrics import mean_absolute_error, \\\n",
        "     mean_squared_error, r2_score\n",
        "from sklearn.metrics import accuracy_score\n",
        "from sklearn.model_selection import train_test_split, \\\n",
        "     GridSearchCV\n",
        "from sklearn.decomposition import PCA, TruncatedSVD\n",
        "\n",
        "from sklearn.compose import ColumnTransformer\n",
        "from sklearn.pipeline import Pipeline\n",
        "from sklearn.impute import SimpleImputer\n",
        "from sklearn.preprocessing import StandardScaler, \\\n",
        "     OneHotEncoder, OrdinalEncoder, LabelEncoder\n",
        "\n",
        "import category_encoders as ce\n",
        "from category_encoders.binary import BinaryEncoder\n",
        "\n",
        "%matplotlib inline"
      ],
      "execution_count": 0,
      "outputs": []
    },
    {
      "cell_type": "code",
      "metadata": {
        "id": "HHmongkvbEAQ",
        "colab_type": "code",
        "outputId": "38632d05-fe9f-494d-b393-606fe00aa272",
        "colab": {
          "base_uri": "https://localhost:8080/",
          "height": 87
        }
      },
      "source": [
        "print(\"pandas_profiling\", pandas_profiling.__version__)\n",
        "print(\"category_encoders\", ce.__version__)\n",
        "print(\"pandas\", pd.__version__)\n",
        "print(\"sklearn\", sklearn.__version__)"
      ],
      "execution_count": 8,
      "outputs": [
        {
          "output_type": "stream",
          "text": [
            "pandas_profiling 2.1.2\n",
            "category_encoders 2.0.0\n",
            "pandas 0.24.2\n",
            "sklearn 0.21.2\n"
          ],
          "name": "stdout"
        }
      ]
    },
    {
      "cell_type": "markdown",
      "metadata": {
        "id": "wz37kh3xbg3Y",
        "colab_type": "text"
      },
      "source": [
        "# Download data"
      ]
    },
    {
      "cell_type": "code",
      "metadata": {
        "id": "o6-LOseFbkKz",
        "colab_type": "code",
        "colab": {}
      },
      "source": [
        "LOCAL = '../data/tanzania/'\n",
        "# WEB = 'https://raw.githubusercontent.com/LambdaSchool/DS-Unit-2-Linear-Models/master/data/tanzania/'\n",
        "WEB = '' # if you have downloaded the files to Colab folder '/content'\n",
        "\n",
        "train_features = pd.read_csv(WEB + 'train_features.csv')\n",
        "train_labels = pd.read_csv(WEB + 'train_labels.csv')\n",
        "test_features = pd.read_csv(WEB + 'test_features.csv')\n",
        "sample_submission = pd.read_csv(WEB + 'sample_submission.csv')\n",
        "\n",
        "assert train_features.shape == (59400, 40)\n",
        "assert train_labels.shape == (59400, 2)\n",
        "assert test_features.shape == (14358, 40)\n",
        "assert sample_submission.shape == (14358, 2)"
      ],
      "execution_count": 0,
      "outputs": []
    },
    {
      "cell_type": "code",
      "metadata": {
        "id": "2drzHRGCbrP9",
        "colab_type": "code",
        "outputId": "93ff7c8b-e81f-4bfe-f8f6-03cba6265b53",
        "colab": {
          "base_uri": "https://localhost:8080/",
          "height": 35
        }
      },
      "source": [
        "X_train = train_features\n",
        "y_train = train_labels['status_group']\n",
        "\n",
        "X_train, X_val, y_train, y_val = train_test_split(\n",
        "    X_train, y_train, train_size=0.80, test_size=0.20,\n",
        "    stratify=y_train, random_state=42)\n",
        "\n",
        "X_train.shape, X_val.shape, y_train.shape, y_val.shape"
      ],
      "execution_count": 10,
      "outputs": [
        {
          "output_type": "execute_result",
          "data": {
            "text/plain": [
              "((47520, 40), (11880, 40), (47520,), (11880,))"
            ]
          },
          "metadata": {
            "tags": []
          },
          "execution_count": 10
        }
      ]
    },
    {
      "cell_type": "markdown",
      "metadata": {
        "id": "4rTnNZsicCNm",
        "colab_type": "text"
      },
      "source": [
        "# Modeling"
      ]
    },
    {
      "cell_type": "code",
      "metadata": {
        "id": "MDJpTnDnb_Il",
        "colab_type": "code",
        "outputId": "0c0e5f90-ed8f-46b7-e475-35db70db8d45",
        "colab": {
          "base_uri": "https://localhost:8080/",
          "height": 35
        }
      },
      "source": [
        "numeric_features = X_train.select_dtypes(include=np.number).columns.to_list()\n",
        "# categorical_features = X_train.select_dtypes(exclude=np.number).columns.to_list()\n",
        "categorical_features, boolean_features = [], []\n",
        "for col in X_train.select_dtypes(exclude=np.number):\n",
        "  if isinstance(X_train[col][0], bool):\n",
        "    boolean_features.append(col)\n",
        "  else:\n",
        "    categorical_features.append(col)\n",
        "len(numeric_features), len(categorical_features), len(boolean_features)"
      ],
      "execution_count": 51,
      "outputs": [
        {
          "output_type": "execute_result",
          "data": {
            "text/plain": [
              "(10, 28, 2)"
            ]
          },
          "metadata": {
            "tags": []
          },
          "execution_count": 51
        }
      ]
    },
    {
      "cell_type": "code",
      "metadata": {
        "id": "jWsR0haWuQxd",
        "colab_type": "code",
        "colab": {
          "base_uri": "https://localhost:8080/",
          "height": 35
        },
        "outputId": "bfb573b6-a5f0-4b05-d961-6cc5eb917011"
      },
      "source": [
        "# select high cardinality features\n",
        "# for ordinal encoding (rather than one-hot encoding)\n",
        "highcardi_features, lowcardi_features = [], []\n",
        "for col in X_train[categorical_features]:\n",
        "  if len(X_train[col].value_counts()) >= 10:\n",
        "    highcardi_features.append(col)\n",
        "  else:\n",
        "    lowcardi_features.append(col)\n",
        "len(numeric_features), len(boolean_features), len(highcardi_features), len(lowcardi_features)"
      ],
      "execution_count": 52,
      "outputs": [
        {
          "output_type": "execute_result",
          "data": {
            "text/plain": [
              "(10, 2, 14, 14)"
            ]
          },
          "metadata": {
            "tags": []
          },
          "execution_count": 52
        }
      ]
    },
    {
      "cell_type": "code",
      "metadata": {
        "id": "0RG0R2-vcIsn",
        "colab_type": "code",
        "outputId": "4743caac-f3de-408f-d4c3-20b7dc385ba7",
        "colab": {
          "base_uri": "https://localhost:8080/",
          "height": 35
        }
      },
      "source": [
        "numeric_transformer = Pipeline(steps=[\n",
        "    ('imputer', SimpleImputer(strategy='median')),\n",
        "    ('scaler', StandardScaler())])\n",
        "onehot_transformer = Pipeline(steps=[\n",
        "    ('imputer', SimpleImputer(strategy='constant', fill_value='missing')),\n",
        "    ('onehot', OneHotEncoder(sparse=True, handle_unknown='ignore'))]) # sparse=False would exaust the memory\n",
        "ordinal_transformer = Pipeline(steps=[\n",
        "    ('imputer', SimpleImputer(strategy='constant', fill_value='missing')),\n",
        "    ('ordinal', ce.OrdinalEncoder())])\n",
        "boolean_transformer = Pipeline(steps=[\n",
        "    ('imputer', SimpleImputer(strategy='most_frequent'))])\n",
        "preprocessor = ColumnTransformer(\n",
        "    transformers=[\n",
        "        ('num', numeric_transformer, numeric_features),\n",
        "        ('boo', boolean_transformer, boolean_features),\n",
        "        ('one', onehot_transformer, lowcardi_features), # categorical_features\n",
        "        ('ord', ordinal_transformer, highcardi_features),\n",
        "    ])\n",
        "\n",
        "boost = AdaBoostClassifier(base_estimator=DecisionTreeClassifier())\n",
        "parameters = {'n_estimators': (1, 50),\n",
        "              'base_estimator__max_depth': (1, 26),\n",
        "              'algorithm': ('SAMME', 'SAMME.R')}\n",
        "\n",
        "clf = Pipeline(steps=[('preprocessor', preprocessor),\n",
        "#                       ('pca', PCA(n_components=5, whiten=True)),\n",
        "#                       ('svd', TruncatedSVD(n_components=200, random_state=5)), # 200059 cols\n",
        "#                       ('lr', LogisticRegression(solver='lbfgs', multi_class='auto', n_jobs=-1)),\n",
        "#                       ('dt', DecisionTreeClassifier(max_depth=26)),\n",
        "#                       ('gscv', GridSearchCV(boost, parameters)) # might take long time\n",
        "                      ('rf', RandomForestClassifier(n_estimators=100, random_state=5))\n",
        "                     ])\n",
        "clf.fit(X_train, y_train)\n",
        "\n",
        "# print('TruncatedSVD explained variance ratio:', clf['svd'].explained_variance_ratio_.sum())\n",
        "# print(\"Decision Tree feature importances:\", clf['dt'].feature_importances_)\n",
        "print(\"Validation score: %.3f\" % clf.score(X_val, y_val))"
      ],
      "execution_count": 54,
      "outputs": [
        {
          "output_type": "stream",
          "text": [
            "Validation score: 0.811\n"
          ],
          "name": "stdout"
        }
      ]
    },
    {
      "cell_type": "markdown",
      "metadata": {
        "id": "eDfyVHpcIWbm",
        "colab_type": "text"
      },
      "source": [
        "rf, ordinal_transformer  \n",
        "Validation score: 0.811   \n",
        "<br>\n",
        "('rf', RandomForestClassifier(n_estimators=100, random_state=5))  \n",
        "Validation score: 0.810  \n",
        "('rf', RandomForestClassifier())  \n",
        "Validation score: 0.792  \n",
        "('rf', RandomForestClassifier(n_estimators=100, max_depth=26, random_state=5))  \n",
        "Validation score: 0.693  \n",
        "<br>\n",
        "('dt', DecisionTreeClassifier())   # depth=142  \n",
        "Validation score: 0.780  \n",
        "('dt', DecisionTreeClassifier(max_depth=75))  \n",
        "Validation score: 0.770  \n",
        "('dt', DecisionTreeClassifier(max_depth=15))  \n",
        "Validation score: 0.715   \n",
        "max_depth=29,30 / 0.782  \n",
        "max_depth=28 / 0.784  \n",
        "max_depth=27 / 0.786  \n",
        "max_depth=26 / 0.782  \n",
        "<br>\n",
        "boost = AdaBoostClassifier(base_estimator=DecisionTreeClassifier())  \n",
        "('gscv', GridSearchCV(boost, parameters))  \n",
        "alidation score: 0.694  \n",
        "<br>\n",
        "('svd', TruncatedSVD(n_components=2000, random_state=5)), # 200059  \n",
        "TruncatedSVD explained variance ratio: 0.8524638115439054  \n",
        "Validation score: 0.773\n"
      ]
    },
    {
      "cell_type": "code",
      "metadata": {
        "id": "TqB8MMEnRAf5",
        "colab_type": "code",
        "colab": {}
      },
      "source": [
        "# print(len(clf['dt'].feature_importances_))\n",
        "# print(clf['dt'].max_features_)\n",
        "# print(clf['dt'].get_depth())\n",
        "# print(clf['dt'].feature_importances_[:15])"
      ],
      "execution_count": 0,
      "outputs": []
    },
    {
      "cell_type": "markdown",
      "metadata": {
        "id": "xRPEGupAcV69",
        "colab_type": "text"
      },
      "source": [
        "# Submission"
      ]
    },
    {
      "cell_type": "code",
      "metadata": {
        "id": "jRS_9FgKcOFh",
        "colab_type": "code",
        "colab": {}
      },
      "source": [
        "test_pred = clf.predict(test_features)\n",
        "submission = sample_submission.copy()\n",
        "submission['status_group'] = test_pred\n",
        "submission_filename = 'submission.csv'\n",
        "submission.to_csv(submission_filename, index=False)\n",
        "print(submission.shape)"
      ],
      "execution_count": 0,
      "outputs": []
    },
    {
      "cell_type": "code",
      "metadata": {
        "id": "If6-eIdHcTOR",
        "colab_type": "code",
        "colab": {}
      },
      "source": [
        "# !kaggle competitions submit ds5-predictive-modeling-challenge -f submission.csv -m \"random forest all features n_estimators=100 81%\""
      ],
      "execution_count": 0,
      "outputs": []
    },
    {
      "cell_type": "markdown",
      "metadata": {
        "id": "qMID4jvkp3m0",
        "colab_type": "text"
      },
      "source": [
        "Adopting a Hypothesis-Driven Modeling Workflow  \n",
        "https://outline.com/5S5tsB  "
      ]
    },
    {
      "cell_type": "markdown",
      "metadata": {
        "id": "ZykDrzsbhdM1",
        "colab_type": "text"
      },
      "source": [
        "# Random Forest\n",
        "\n",
        "https://scikit-learn.org/stable/modules/generated/sklearn.ensemble.RandomForestClassifier.html  "
      ]
    },
    {
      "cell_type": "markdown",
      "metadata": {
        "id": "KF5pqoBQEpP2",
        "colab_type": "text"
      },
      "source": [
        "# AdaBoostClassifier\n",
        "\n",
        "https://programtalk.com/python-examples/sklearn.tree.DecisionTreeRegressor/  \n",
        "https://scikit-learn.org/stable/modules/generated/sklearn.ensemble.AdaBoostRegressor.html  \n",
        "https://www.datacamp.com/community/tutorials/adaboost-classifier-python  "
      ]
    },
    {
      "cell_type": "code",
      "metadata": {
        "id": "RTQaiOQpEryX",
        "colab_type": "code",
        "colab": {}
      },
      "source": [
        "# iris = datasets.load_iris()\n",
        "# boston = datasets.load_boston()\n",
        "\n",
        "# def test_gridsearch():\n",
        "#     # Check that base trees can be grid-searched.\n",
        "#     # AdaBoost classification\n",
        "#     boost = AdaBoostClassifier(base_estimator=DecisionTreeClassifier())\n",
        "#     parameters = {'n_estimators': (1, 2),\n",
        "#                   'base_estimator__max_depth': (1, 2),\n",
        "#                   'algorithm': ('SAMME', 'SAMME.R')}\n",
        "#     clf = GridSearchCV(boost, parameters)\n",
        "#     clf.fit(iris.data, iris.target)\n",
        " \n",
        "#     # AdaBoost regression\n",
        "#     boost = AdaBoostRegressor(base_estimator=DecisionTreeRegressor(),\n",
        "#                               random_state=0)\n",
        "#     parameters = {'n_estimators': (1, 2),\n",
        "#                   'base_estimator__max_depth': (1, 2)}\n",
        "#     clf = GridSearchCV(boost, parameters)\n",
        "#     clf.fit(boston.data, boston.target)\n",
        "\n",
        "# test_gridsearch()"
      ],
      "execution_count": 0,
      "outputs": []
    },
    {
      "cell_type": "markdown",
      "metadata": {
        "id": "11vFcRf3LoPe",
        "colab_type": "text"
      },
      "source": [
        "# TPOT\n",
        "\n",
        "http://epistasislab.github.io/tpot/  "
      ]
    }
  ]
}